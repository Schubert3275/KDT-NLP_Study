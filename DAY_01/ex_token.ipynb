{
 "cells": [
  {
   "cell_type": "markdown",
   "metadata": {},
   "source": [
    "#### 토큰화(Tokenize)\n",
    "\n",
    "-   문장을 의미있는 최소 단위로 나누는 것\n",
    "-   최소 단위 => 단어, 글자, 문장\n"
   ]
  },
  {
   "cell_type": "markdown",
   "metadata": {},
   "source": [
    "-   [1] 자모 단위 토큰화 : 자음과 모음으로 토큰화\n",
    "    -   추가 라이브러리 설치 : pip install jamo\n"
   ]
  },
  {
   "cell_type": "code",
   "execution_count": 1,
   "metadata": {},
   "outputs": [],
   "source": [
    "## 모듈 로딩\n",
    "import jamo\n",
    "\n",
    "## 완성형 단어 ==> 조합형으로 변환\n",
    "mag = \"좋은 날\"\n",
    "\n",
    "result1 = jamo.h2j(mag)\n"
   ]
  },
  {
   "cell_type": "code",
   "execution_count": 2,
   "metadata": {},
   "outputs": [
    {
     "name": "stdout",
     "output_type": "stream",
     "text": [
      "ㅈㅗㅎㅇㅡㄴ ㄴㅏㄹ\n"
     ]
    }
   ],
   "source": [
    "### 조합형 단어 ==> 자모 형태로 변환\n",
    "result2 = jamo.j2hcj(result1)\n",
    "\n",
    "print(result2)\n"
   ]
  },
  {
   "cell_type": "markdown",
   "metadata": {},
   "source": [
    "-   [2] 다양한 한국어 형태소 분석기\n"
   ]
  },
  {
   "cell_type": "code",
   "execution_count": 3,
   "metadata": {},
   "outputs": [],
   "source": [
    "### ===> KoNlpy 의 Okt 형태소 분석기\n",
    "from konlpy.tag import Okt\n",
    "\n",
    "# 인스턴스 생성\n",
    "okt = Okt()\n",
    "\n",
    "# 분석 문장\n",
    "msg = \"오늘 저녁에 실증랩에서 PC 성능 테스트를 진행할 예정입니다.\"\n"
   ]
  },
  {
   "cell_type": "code",
   "execution_count": 4,
   "metadata": {},
   "outputs": [
    {
     "name": "stdout",
     "output_type": "stream",
     "text": [
      "[명사] =>  ['오늘', '저녁', '실증', '랩', '성능', '테스트', '진행', '예정']\n",
      "\n",
      "[형태소] =>  ['오늘', '저녁', '에', '실증', '랩', '에서', 'PC', '성능', '테스트', '를', '진행', '할', '예정', '입니다', '.']\n",
      "\n",
      "[구문] =>  ['오늘', '오늘 저녁', '실증랩', 'PC', 'PC 성능', 'PC 성능 테스트', '진행', '진행할 예정', '저녁', '실증', '성능', '테스트', '예정']\n",
      "\n",
      "[품사] =>  [('오늘', 'Noun'), ('저녁', 'Noun'), ('에', 'Josa'), ('실증', 'Noun'), ('랩', 'Noun'), ('에서', 'Josa'), ('PC', 'Alpha'), ('성능', 'Noun'), ('테스트', 'Noun'), ('를', 'Josa'), ('진행', 'Noun'), ('할', 'Verb'), ('예정', 'Noun'), ('입니다', 'Adjective'), ('.', 'Punctuation')]\n",
      "\n"
     ]
    }
   ],
   "source": [
    "# 명사, 형태소, 문장, 품사 분석\n",
    "print(\"[명사] => \", okt.nouns(msg), end=\"\\n\\n\")\n",
    "print(\"[형태소] => \", okt.morphs(msg), end=\"\\n\\n\")\n",
    "print(\"[구문] => \", okt.phrases(msg), end=\"\\n\\n\")\n",
    "print(\"[품사] => \", okt.pos(msg), end=\"\\n\\n\")\n"
   ]
  },
  {
   "cell_type": "code",
   "execution_count": 5,
   "metadata": {},
   "outputs": [
    {
     "name": "stdout",
     "output_type": "stream",
     "text": [
      "[명사] =>  ['오늘', '저녁', '실증', '실증랩', '랩', '성능', '테스트', '진행', '예정']\n",
      "\n",
      "[형태소] =>  ['오늘', '저녁', '에', '실증', '랩', '에서', 'PC', '성능', '테스트', '를', '진행', '하', 'ㄹ', '예정', '이', 'ㅂ니다', '.']\n",
      "\n",
      "[품사] =>  [('오늘', 'NNG'), ('저녁', 'NNG'), ('에', 'JKM'), ('실증', 'NNG'), ('랩', 'NNG'), ('에서', 'JKM'), ('PC', 'OL'), ('성능', 'NNG'), ('테스트', 'NNG'), ('를', 'JKO'), ('진행', 'NNG'), ('하', 'XSV'), ('ㄹ', 'ETD'), ('예정', 'NNG'), ('이', 'VCP'), ('ㅂ니다', 'EFN'), ('.', 'SF')]\n",
      "\n"
     ]
    }
   ],
   "source": [
    "### ===> KoNlpy 의 Kkma 형태소 분석기\n",
    "from konlpy.tag import Kkma\n",
    "\n",
    "# 인스턴스 생성\n",
    "kkma = Kkma()\n",
    "\n",
    "# 분석 문장\n",
    "msg = \"오늘 저녁에 실증랩에서 PC 성능 테스트를 진행할 예정입니다.\"\n",
    "\n",
    "# 명사, 형태소, 문장, 품사 분석\n",
    "print(\"[명사] => \", kkma.nouns(msg), end=\"\\n\\n\")\n",
    "print(\"[형태소] => \", kkma.morphs(msg), end=\"\\n\\n\")\n",
    "print(\"[품사] => \", kkma.pos(msg), end=\"\\n\\n\")\n"
   ]
  },
  {
   "cell_type": "code",
   "execution_count": 6,
   "metadata": {},
   "outputs": [
    {
     "name": "stdout",
     "output_type": "stream",
     "text": [
      "[명사] =>  ['오늘', '저녁', '실증랩', '성능', '테스트', '진행', '예정']\n",
      "\n",
      "[형태소] =>  ['오늘', '저녁', '에', '실증랩', '에서', 'PC', '성능', '테스트', '를', '진행', '하', 'ㄹ', '예정', '이', 'ㅂ니다', '.']\n",
      "\n",
      "[품사] =>  [('오늘', 'N'), ('저녁', 'N'), ('에', 'J'), ('실증랩', 'N'), ('에서', 'J'), ('PC', 'F'), ('성능', 'N'), ('테스트', 'N'), ('를', 'J'), ('진행', 'N'), ('하', 'X'), ('ㄹ', 'E'), ('예정', 'N'), ('이', 'J'), ('ㅂ니다', 'E'), ('.', 'S')]\n",
      "\n"
     ]
    }
   ],
   "source": [
    "### ===> KoNlpy 의 Hannanum 형태소 분석기\n",
    "from konlpy.tag import Hannanum\n",
    "\n",
    "# 인스턴스 생성\n",
    "han = Hannanum()\n",
    "\n",
    "# 분석 문장\n",
    "msg = \"오늘 저녁에 실증랩에서 PC 성능 테스트를 진행할 예정입니다.\"\n",
    "\n",
    "# 명사, 형태소, 문장, 품사 분석\n",
    "print(\"[명사] => \", han.nouns(msg), end=\"\\n\\n\")\n",
    "print(\"[형태소] => \", han.morphs(msg), end=\"\\n\\n\")\n",
    "print(\"[품사] => \", han.pos(msg), end=\"\\n\\n\")\n"
   ]
  },
  {
   "cell_type": "code",
   "execution_count": 7,
   "metadata": {},
   "outputs": [
    {
     "name": "stdout",
     "output_type": "stream",
     "text": [
      "[명사] =>  ['오늘', '저녁', '실증', '랩', '성능', '테스트', '진행', '예정']\n",
      "\n",
      "[형태소] =>  ['오늘', '저녁', '에', '실증', '랩', '에서', 'PC', '성능', '테스트', '를', '진행', '하', 'ㄹ', '예정', '이', 'ㅂ니다', '.']\n",
      "\n",
      "[품사] =>  [('오늘', 'NNG'), ('저녁', 'NNG'), ('에', 'JKB'), ('실증', 'NNG'), ('랩', 'NNG'), ('에서', 'JKB'), ('PC', 'SL'), ('성능', 'NNP'), ('테스트', 'NNP'), ('를', 'JKO'), ('진행', 'NNG'), ('하', 'XSV'), ('ㄹ', 'ETM'), ('예정', 'NNG'), ('이', 'VCP'), ('ㅂ니다', 'EF'), ('.', 'SF')]\n",
      "\n"
     ]
    }
   ],
   "source": [
    "### ===> KoNlpy 의 Komoran 형태소 분석기\n",
    "from konlpy.tag import Komoran\n",
    "\n",
    "# 인스턴스 생성\n",
    "kom = Komoran()\n",
    "\n",
    "# 분석 문장\n",
    "msg = \"오늘 저녁에 실증랩에서 PC 성능 테스트를 진행할 예정입니다.\"\n",
    "\n",
    "# 명사, 형태소, 문장, 품사 분석\n",
    "print(\"[명사] => \", kom.nouns(msg), end=\"\\n\\n\")\n",
    "print(\"[형태소] => \", kom.morphs(msg), end=\"\\n\\n\")\n",
    "print(\"[품사] => \", kom.pos(msg), end=\"\\n\\n\")\n"
   ]
  },
  {
   "cell_type": "markdown",
   "metadata": {},
   "source": [
    "#### NLTK <hr>\n",
    "\n",
    "-   한글 미지원\n"
   ]
  },
  {
   "cell_type": "code",
   "execution_count": 8,
   "metadata": {},
   "outputs": [
    {
     "name": "stdout",
     "output_type": "stream",
     "text": [
      "[단어 단위] ['Happy', 'New', 'Year', '!', 'Merry', 'Christmas', '!']\n",
      "[문장 단위] ['Happy New Year!', 'Merry Christmas!']\n"
     ]
    }
   ],
   "source": [
    "### 형태소 분석\n",
    "from nltk import tokenize\n",
    "\n",
    "msg = \"Happy New Year! Merry Christmas!\"\n",
    "\n",
    "# 단어 단위 형태소\n",
    "result1 = tokenize.word_tokenize(msg)\n",
    "\n",
    "# 문장 단위 형태소\n",
    "result2 = tokenize.sent_tokenize(msg)\n",
    "\n",
    "print(f\"[단어 단위] {result1}\")\n",
    "print(f\"[문장 단위] {result2}\")\n"
   ]
  },
  {
   "cell_type": "code",
   "execution_count": 9,
   "metadata": {},
   "outputs": [
    {
     "data": {
      "text/plain": [
       "['Happy', 'New', 'Year', '!', 'Merry', 'Christmas', '!']"
      ]
     },
     "execution_count": 9,
     "metadata": {},
     "output_type": "execute_result"
    }
   ],
   "source": [
    "punctokenize = tokenize.WordPunctTokenizer()\n",
    "\n",
    "punctokenize.tokenize(msg)\n"
   ]
  },
  {
   "cell_type": "code",
   "execution_count": 11,
   "metadata": {},
   "outputs": [
    {
     "data": {
      "text/plain": [
       "'!\"#$%&\\'()*+,-./:;<=>?@[\\\\]^_`{|}~'"
      ]
     },
     "execution_count": 11,
     "metadata": {},
     "output_type": "execute_result"
    }
   ],
   "source": [
    "## 파이썬 string 모듈에서 제공하는 구두점\n",
    "import string\n",
    "\n",
    "punctuation = string.punctuation\n"
   ]
  },
  {
   "cell_type": "code",
   "execution_count": null,
   "metadata": {},
   "outputs": [],
   "source": []
  }
 ],
 "metadata": {
  "kernelspec": {
   "display_name": "Torch_NLP38",
   "language": "python",
   "name": "python3"
  },
  "language_info": {
   "codemirror_mode": {
    "name": "ipython",
    "version": 3
   },
   "file_extension": ".py",
   "mimetype": "text/x-python",
   "name": "python",
   "nbconvert_exporter": "python",
   "pygments_lexer": "ipython3",
   "version": "3.8.19"
  }
 },
 "nbformat": 4,
 "nbformat_minor": 2
}
