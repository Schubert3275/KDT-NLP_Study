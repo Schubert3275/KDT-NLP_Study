{
 "cells": [
  {
   "cell_type": "markdown",
   "metadata": {},
   "source": [
    "#### [iterator 살펴보기]\n",
    "\n",
    "-   iterable : for ~ in으로 요소 제어 가능한 자료형, List, Tuple, str, ..., **iter**() 메소드 가진 자료형\n",
    "-   iterator : iter() 함수로 생성, next() 메서드를 내장하고 있는 자료형\n"
   ]
  },
  {
   "cell_type": "code",
   "execution_count": 9,
   "metadata": {},
   "outputs": [],
   "source": [
    "a = [10, 20]\n",
    "\n",
    "# next(a) ## iterator 객체가 아님!!\n"
   ]
  },
  {
   "cell_type": "code",
   "execution_count": 11,
   "metadata": {},
   "outputs": [
    {
     "data": {
      "text/plain": [
       "(10, 20)"
      ]
     },
     "execution_count": 11,
     "metadata": {},
     "output_type": "execute_result"
    }
   ],
   "source": [
    "### ===> iter(데이터) : iterator 인스턴스 생성\n",
    "b = iter(a)\n",
    "next(b), next(b)\n"
   ]
  },
  {
   "cell_type": "code",
   "execution_count": 17,
   "metadata": {},
   "outputs": [],
   "source": [
    "### ===> 더이상 가져올 데이터 없는 경우 ERROR 발생\n",
    "# next(b) ## StopIteration 발생\n"
   ]
  },
  {
   "cell_type": "markdown",
   "metadata": {},
   "source": [
    "### [제네레이터 함수] <hr>\n",
    "\n",
    "-   형식 : def 함수명(): yield 반환값\n",
    "-   코드 실행 후 결과를 반환\n",
    "-   실행 된 상태 정보 유지 ===> 다시 호출되면 이전 실행 정보를 바탕으로 동작함\n",
    "-   장점 : 메모리 효율 ==> 대량의 데이터 처리에 효율적 ==> 현재 실행되는 만큼만 메모리 사용\n"
   ]
  },
  {
   "cell_type": "code",
   "execution_count": 21,
   "metadata": {},
   "outputs": [],
   "source": [
    "def make_value():\n",
    "    data = [10, 20, 30, 40]\n",
    "    return data * 10\n"
   ]
  },
  {
   "cell_type": "code",
   "execution_count": 25,
   "metadata": {},
   "outputs": [
    {
     "data": {
      "text/plain": [
       "(function,\n",
       " [10,\n",
       "  20,\n",
       "  30,\n",
       "  40,\n",
       "  10,\n",
       "  20,\n",
       "  30,\n",
       "  40,\n",
       "  10,\n",
       "  20,\n",
       "  30,\n",
       "  40,\n",
       "  10,\n",
       "  20,\n",
       "  30,\n",
       "  40,\n",
       "  10,\n",
       "  20,\n",
       "  30,\n",
       "  40,\n",
       "  10,\n",
       "  20,\n",
       "  30,\n",
       "  40,\n",
       "  10,\n",
       "  20,\n",
       "  30,\n",
       "  40,\n",
       "  10,\n",
       "  20,\n",
       "  30,\n",
       "  40,\n",
       "  10,\n",
       "  20,\n",
       "  30,\n",
       "  40,\n",
       "  10,\n",
       "  20,\n",
       "  30,\n",
       "  40])"
      ]
     },
     "execution_count": 25,
     "metadata": {},
     "output_type": "execute_result"
    }
   ],
   "source": [
    "type(make_value), make_value()\n"
   ]
  },
  {
   "cell_type": "code",
   "execution_count": 47,
   "metadata": {},
   "outputs": [],
   "source": [
    "#### =====> 여러 개의 데이터 처리하는 함수와 제네레이터\n",
    "def many_data():\n",
    "    for n in range(50):\n",
    "        print(n, end=\" \")\n",
    "\n",
    "\n",
    "def many_data2():\n",
    "    for n in range(50):\n",
    "        yield print(n)\n"
   ]
  },
  {
   "cell_type": "code",
   "execution_count": 48,
   "metadata": {},
   "outputs": [
    {
     "name": "stdout",
     "output_type": "stream",
     "text": [
      "0 1 2 3 4 5 6 7 8 9 10 11 12 13 14 15 16 17 18 19 20 21 22 23 24 25 26 27 28 29 30 31 32 33 34 35 36 37 38 39 40 41 42 43 44 45 46 47 48 49 "
     ]
    }
   ],
   "source": [
    "many_data()\n"
   ]
  },
  {
   "cell_type": "code",
   "execution_count": 50,
   "metadata": {},
   "outputs": [],
   "source": [
    "md2 = many_data2()\n"
   ]
  },
  {
   "cell_type": "code",
   "execution_count": 51,
   "metadata": {},
   "outputs": [
    {
     "name": "stdout",
     "output_type": "stream",
     "text": [
      "0\n",
      "1\n"
     ]
    },
    {
     "data": {
      "text/plain": [
       "(None, None)"
      ]
     },
     "execution_count": 51,
     "metadata": {},
     "output_type": "execute_result"
    }
   ],
   "source": [
    "next(md2), next(md2)\n"
   ]
  },
  {
   "cell_type": "code",
   "execution_count": null,
   "metadata": {},
   "outputs": [],
   "source": [
    "# Comprehension\n",
    "a = [value for value in range(100)]\n",
    "b = {k: k * 5 for k in range(100)}\n"
   ]
  },
  {
   "cell_type": "code",
   "execution_count": 44,
   "metadata": {},
   "outputs": [
    {
     "data": {
      "text/plain": [
       "(function, <generator object make_value2 at 0x000001E9237B75F0>)"
      ]
     },
     "execution_count": 44,
     "metadata": {},
     "output_type": "execute_result"
    }
   ],
   "source": [
    "def make_value2():\n",
    "    data = [10, 20, 30, 40]\n",
    "    yield data * 3\n",
    "\n",
    "\n",
    "type(make_value2), make_value2()\n"
   ]
  },
  {
   "cell_type": "code",
   "execution_count": 46,
   "metadata": {},
   "outputs": [
    {
     "name": "stdout",
     "output_type": "stream",
     "text": [
      "<class 'generator'>\n"
     ]
    },
    {
     "data": {
      "text/plain": [
       "[10, 20, 30, 40, 10, 20, 30, 40, 10, 20, 30, 40]"
      ]
     },
     "execution_count": 46,
     "metadata": {},
     "output_type": "execute_result"
    }
   ],
   "source": [
    "m2 = make_value2()\n",
    "print(type(m2))\n",
    "next(m2)\n"
   ]
  },
  {
   "cell_type": "code",
   "execution_count": 39,
   "metadata": {},
   "outputs": [],
   "source": [
    "class A:\n",
    "    def __init__(self, data) -> None:\n",
    "        self.data = data\n",
    "\n",
    "    ## 연산자 오버라이딩\n",
    "    def __add__(self, other):\n",
    "        return self.data + other.data\n",
    "\n",
    "    ## A 인스턴스끼리 뺄셈(-) 연산 진행 시 호출되는 메서드\n",
    "    def __sub__(self, other):\n",
    "        return self.data - other.data\n",
    "\n",
    "    ## next() 함수 호출 시 호출되는 메서드\n",
    "    def __next__(self):\n",
    "        return self.data * 10\n"
   ]
  },
  {
   "cell_type": "code",
   "execution_count": 42,
   "metadata": {},
   "outputs": [
    {
     "data": {
      "text/plain": [
       "(15, 5, 100)"
      ]
     },
     "execution_count": 42,
     "metadata": {},
     "output_type": "execute_result"
    }
   ],
   "source": [
    "a1, a2 = A(10), A(5)\n",
    "\n",
    "a1 + a2, a1 - a2, next(a1)\n"
   ]
  },
  {
   "cell_type": "code",
   "execution_count": null,
   "metadata": {},
   "outputs": [],
   "source": []
  }
 ],
 "metadata": {
  "kernelspec": {
   "display_name": "Torch_NLP38",
   "language": "python",
   "name": "python3"
  },
  "language_info": {
   "codemirror_mode": {
    "name": "ipython",
    "version": 3
   },
   "file_extension": ".py",
   "mimetype": "text/x-python",
   "name": "python",
   "nbconvert_exporter": "python",
   "pygments_lexer": "ipython3",
   "version": "3.8.19"
  }
 },
 "nbformat": 4,
 "nbformat_minor": 2
}
