{
 "cells": [
  {
   "cell_type": "markdown",
   "metadata": {},
   "source": [
    "#### [순환신경망 RNN] <hr>\n"
   ]
  },
  {
   "cell_type": "code",
   "execution_count": 1,
   "metadata": {},
   "outputs": [],
   "source": [
    "import torch\n",
    "import torch.nn as nn\n"
   ]
  },
  {
   "cell_type": "code",
   "execution_count": 2,
   "metadata": {},
   "outputs": [],
   "source": [
    "### ------------------------------------------------------\n",
    "### ===> 설계 : 다층 RNN, 층 2개\n",
    "### ===> INPUT\n",
    "### ------------------------------------------------------\n",
    "### 입력 초기 텐서들\n",
    "input = torch.randn(\n",
    "    3, 50, 10\n",
    ")  ## 배치사이즈, 시퀀스(1개 문장 구성 단어 수), 피쳐 수(1개 단어 표현하는 수)\n",
    "h0 = torch.randn(2, 3, 5)  ## 히든 스테이트 초기화(양방향*층수, 배치사이즈, 히든 갯수)\n",
    "\n",
    "### RNN 인스턴스\n",
    "rnn = nn.RNN(10, 5, 2, batch_first=True)\n",
    "\n",
    "### 출력 텐서들\n",
    "output, hn = rnn(input, h0)\n"
   ]
  },
  {
   "cell_type": "code",
   "execution_count": 3,
   "metadata": {},
   "outputs": [
    {
     "data": {
      "text/plain": [
       "=================================================================\n",
       "Layer (type:depth-idx)                   Param #\n",
       "=================================================================\n",
       "RNN                                      145\n",
       "=================================================================\n",
       "Total params: 145\n",
       "Trainable params: 145\n",
       "Non-trainable params: 0\n",
       "================================================================="
      ]
     },
     "execution_count": 3,
     "metadata": {},
     "output_type": "execute_result"
    }
   ],
   "source": [
    "from torchinfo import summary\n",
    "\n",
    "summary(rnn)\n"
   ]
  },
  {
   "cell_type": "code",
   "execution_count": 4,
   "metadata": {},
   "outputs": [
    {
     "name": "stdout",
     "output_type": "stream",
     "text": [
      "[all_weights] - 2개\n",
      "======> [weight_ih_l0]\n",
      "torch.Size([5, 10])\n",
      "\n",
      "======> [weight_hh_l0]\n",
      "torch.Size([5, 5])\n",
      "\n",
      "======> [bias_ih_l0]\n",
      "torch.Size([5])\n",
      "\n",
      "======> [bias_hh_l0]\n",
      "torch.Size([5])\n",
      "\n",
      "======> [weight_ih_l1]\n",
      "torch.Size([5, 5])\n",
      "\n",
      "======> [weight_hh_l1]\n",
      "torch.Size([5, 5])\n",
      "\n",
      "======> [bias_ih_l1]\n",
      "torch.Size([5])\n",
      "\n",
      "======> [bias_hh_l1]\n",
      "torch.Size([5])\n",
      "\n"
     ]
    }
   ],
   "source": [
    "## rnn 모델의 속성 출력\n",
    "print(f\"[all_weights] - {len(rnn.all_weights)}개\")\n",
    "\n",
    "for name, param in rnn.named_parameters():\n",
    "    print(f\"======> [{name}]\\n{param.shape}\\n\")\n"
   ]
  },
  {
   "cell_type": "code",
   "execution_count": 16,
   "metadata": {},
   "outputs": [],
   "source": [
    "HIDDEN_SIZE = 3\n",
    "NUM_LAYERS = 1\n",
    "SEQ_LENGHT = 3\n",
    "BATCH_SIZE = 1\n",
    "\n",
    "### ===> 데이터 및 초기 Hidden state\n",
    "input = torch.randn(\n",
    "    BATCH_SIZE, SEQ_LENGHT, 10\n",
    ")  # 입력 데이터 (배치 크기, 시퀀스 길이, 피쳐 길이)\n",
    "\n",
    "### ===> 첫번째 Hidden state 초기값\n",
    "h0 = torch.randn(\n",
    "    NUM_LAYERS, BATCH_SIZE, HIDDEN_SIZE\n",
    ")  # 히든 초기값 (양방향*층수, 배치크기, 히든 개수)\n",
    "\n",
    "### ===> RNN 인스턴스 생성\n",
    "rnn = nn.RNN(10, HIDDEN_SIZE, NUM_LAYERS, batch_first=True)\n",
    "\n",
    "### ===> RNN 출력\n",
    "output, hn = rnn(input, h0)\n"
   ]
  },
  {
   "cell_type": "code",
   "execution_count": 17,
   "metadata": {},
   "outputs": [
    {
     "name": "stdout",
     "output_type": "stream",
     "text": [
      "[INPUT DATA]\n",
      "-SHAPE : torch.Size([1, 3, 10])   DIM : 3D\n"
     ]
    }
   ],
   "source": [
    "print(f\"[INPUT DATA]\\n-SHAPE : {input.shape}   DIM : {input.ndim}D\")\n"
   ]
  },
  {
   "cell_type": "code",
   "execution_count": 18,
   "metadata": {},
   "outputs": [
    {
     "name": "stdout",
     "output_type": "stream",
     "text": [
      "[RNN PARAMETERS]\n",
      "----[weight_ih_l0]\n",
      "Parameter containing:\n",
      "tensor([[-0.0674, -0.4093,  0.2795,  0.0502,  0.1387,  0.0729,  0.2753, -0.5149,\n",
      "         -0.4810, -0.2664],\n",
      "        [ 0.3119, -0.2432,  0.1149,  0.4762,  0.5684, -0.1952,  0.0202, -0.3933,\n",
      "          0.0554,  0.1394],\n",
      "        [-0.0757,  0.0732, -0.3184, -0.2470, -0.1021, -0.3239,  0.5116, -0.2408,\n",
      "         -0.2251,  0.1089]], requires_grad=True)\n",
      "\n",
      "----[weight_hh_l0]\n",
      "Parameter containing:\n",
      "tensor([[-0.3910,  0.4964, -0.4348],\n",
      "        [-0.1372, -0.0386, -0.1769],\n",
      "        [-0.4546,  0.1569,  0.1598]], requires_grad=True)\n",
      "\n",
      "----[bias_ih_l0]\n",
      "Parameter containing:\n",
      "tensor([-0.2784,  0.2083,  0.0956], requires_grad=True)\n",
      "\n",
      "----[bias_hh_l0]\n",
      "Parameter containing:\n",
      "tensor([0.4557, 0.2951, 0.3641], requires_grad=True)\n",
      "\n"
     ]
    }
   ],
   "source": [
    "print(f\"[RNN PARAMETERS]\")\n",
    "for name, param in rnn.named_parameters():\n",
    "    print(f\"----[{name}]\\n{param}\\n\")\n"
   ]
  },
  {
   "cell_type": "code",
   "execution_count": 19,
   "metadata": {},
   "outputs": [
    {
     "name": "stdout",
     "output_type": "stream",
     "text": [
      "[RNN 출력 - output]\n",
      "-SHAPE : torch.Size([1, 3, 3])   DIM : 3D\n",
      "tensor([[[ 0.8427,  0.4013,  0.7881],\n",
      "         [-0.7584, -0.6894,  0.6568],\n",
      "         [-0.6575, -0.4768,  0.1764]]], grad_fn=<TransposeBackward1>)\n"
     ]
    }
   ],
   "source": [
    "print(f\"[RNN 출력 - output]\\n-SHAPE : {output.shape}   DIM : {output.ndim}D\")\n",
    "print(output)\n"
   ]
  },
  {
   "cell_type": "code",
   "execution_count": 20,
   "metadata": {},
   "outputs": [
    {
     "name": "stdout",
     "output_type": "stream",
     "text": [
      "[RNN 출력 - hn]\n",
      "-SHAPE : torch.Size([1, 1, 3])   DIM : 3D\n",
      "tensor([[[-0.6575, -0.4768,  0.1764]]], grad_fn=<StackBackward0>)\n"
     ]
    }
   ],
   "source": [
    "print(f\"[RNN 출력 - hn]\\n-SHAPE : {hn.shape}   DIM : {hn.ndim}D\")\n",
    "print(hn)\n"
   ]
  },
  {
   "cell_type": "code",
   "execution_count": null,
   "metadata": {},
   "outputs": [],
   "source": []
  }
 ],
 "metadata": {
  "kernelspec": {
   "display_name": "Torch_NLP38",
   "language": "python",
   "name": "python3"
  },
  "language_info": {
   "codemirror_mode": {
    "name": "ipython",
    "version": 3
   },
   "file_extension": ".py",
   "mimetype": "text/x-python",
   "name": "python",
   "nbconvert_exporter": "python",
   "pygments_lexer": "ipython3",
   "version": "3.8.19"
  }
 },
 "nbformat": 4,
 "nbformat_minor": 2
}
