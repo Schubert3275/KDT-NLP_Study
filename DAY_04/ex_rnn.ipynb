{
 "cells": [
  {
   "cell_type": "markdown",
   "metadata": {},
   "source": [
    "#### [순환신경망 RNN] <hr>\n"
   ]
  },
  {
   "cell_type": "code",
   "execution_count": 1,
   "metadata": {},
   "outputs": [],
   "source": [
    "import torch\n",
    "import torch.nn as nn\n"
   ]
  },
  {
   "cell_type": "code",
   "execution_count": 24,
   "metadata": {},
   "outputs": [],
   "source": [
    "### ------------------------------------------------------\n",
    "### ===> 설계 : 다층 RNN, 층 2개\n",
    "### ===> INPUT\n",
    "### ------------------------------------------------------\n",
    "### 입력 초기 텐서들\n",
    "input = torch.randn(\n",
    "    3, 50, 10\n",
    ")  ## 배치사이즈, 시퀀스(1개 문장 구성 단어 수), 피쳐 수(1개 단어 표현하는 수)\n",
    "h0 = torch.randn(2, 3, 5)  ## 히든 스테이트 초기화(양방향*층수, 배치사이즈, 히든 갯수)\n",
    "\n",
    "### RNN 인스턴스\n",
    "rnn = nn.RNN(10, 5, 2, batch_first=True)\n",
    "\n",
    "### 출력 텐서들\n",
    "output, hn = rnn(input, h0)\n"
   ]
  },
  {
   "cell_type": "code",
   "execution_count": 25,
   "metadata": {},
   "outputs": [
    {
     "data": {
      "text/plain": [
       "=================================================================\n",
       "Layer (type:depth-idx)                   Param #\n",
       "=================================================================\n",
       "RNN                                      145\n",
       "=================================================================\n",
       "Total params: 145\n",
       "Trainable params: 145\n",
       "Non-trainable params: 0\n",
       "================================================================="
      ]
     },
     "execution_count": 25,
     "metadata": {},
     "output_type": "execute_result"
    }
   ],
   "source": [
    "from torchinfo import summary\n",
    "\n",
    "summary(rnn)\n"
   ]
  },
  {
   "cell_type": "code",
   "execution_count": 26,
   "metadata": {},
   "outputs": [
    {
     "name": "stdout",
     "output_type": "stream",
     "text": [
      "[all_weights] - 2개\n",
      "======> [weight_ih_l0]\n",
      "torch.Size([5, 10])\n",
      "\n",
      "======> [weight_hh_l0]\n",
      "torch.Size([5, 5])\n",
      "\n",
      "======> [bias_ih_l0]\n",
      "torch.Size([5])\n",
      "\n",
      "======> [bias_hh_l0]\n",
      "torch.Size([5])\n",
      "\n",
      "======> [weight_ih_l1]\n",
      "torch.Size([5, 5])\n",
      "\n",
      "======> [weight_hh_l1]\n",
      "torch.Size([5, 5])\n",
      "\n",
      "======> [bias_ih_l1]\n",
      "torch.Size([5])\n",
      "\n",
      "======> [bias_hh_l1]\n",
      "torch.Size([5])\n",
      "\n"
     ]
    }
   ],
   "source": [
    "## rnn 모델의 속성 출력\n",
    "print(f\"[all_weights] - {len(rnn.all_weights)}개\")\n",
    "\n",
    "for name, param in rnn.named_parameters():\n",
    "    print(f\"======> [{name}]\\n{param.shape}\\n\")\n"
   ]
  },
  {
   "cell_type": "code",
   "execution_count": null,
   "metadata": {},
   "outputs": [],
   "source": []
  }
 ],
 "metadata": {
  "kernelspec": {
   "display_name": "Torch_NLP38",
   "language": "python",
   "name": "python3"
  },
  "language_info": {
   "codemirror_mode": {
    "name": "ipython",
    "version": 3
   },
   "file_extension": ".py",
   "mimetype": "text/x-python",
   "name": "python",
   "nbconvert_exporter": "python",
   "pygments_lexer": "ipython3",
   "version": "3.8.19"
  }
 },
 "nbformat": 4,
 "nbformat_minor": 2
}
