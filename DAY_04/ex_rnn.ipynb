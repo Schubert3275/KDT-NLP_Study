{
 "cells": [
  {
   "cell_type": "markdown",
   "metadata": {},
   "source": [
    "#### [순환신경망 RNN] <hr>\n"
   ]
  },
  {
   "cell_type": "code",
   "execution_count": 2,
   "metadata": {},
   "outputs": [],
   "source": [
    "import torch\n",
    "import torch.nn as nn\n"
   ]
  },
  {
   "cell_type": "code",
   "execution_count": 41,
   "metadata": {},
   "outputs": [],
   "source": [
    "### ------------------------------------------------------\n",
    "### ===> 설계 : 다층 RNN, 층 2개\n",
    "### ===> INPUT\n",
    "### ------------------------------------------------------\n",
    "### 입력 초기 텐서들\n",
    "input = torch.randn(5, 3, 10)\n",
    "h0 = torch.randn(2, 3, 5)\n",
    "\n",
    "### RNN 인스턴스\n",
    "rnn = nn.RNN(10, 5, 2)\n",
    "\n",
    "### 출력 텐서들\n",
    "output, hn = rnn(input, h0)\n"
   ]
  },
  {
   "cell_type": "code",
   "execution_count": 42,
   "metadata": {},
   "outputs": [
    {
     "data": {
      "text/plain": [
       "=================================================================\n",
       "Layer (type:depth-idx)                   Param #\n",
       "=================================================================\n",
       "RNN                                      145\n",
       "=================================================================\n",
       "Total params: 145\n",
       "Trainable params: 145\n",
       "Non-trainable params: 0\n",
       "================================================================="
      ]
     },
     "execution_count": 42,
     "metadata": {},
     "output_type": "execute_result"
    }
   ],
   "source": [
    "from torchinfo import summary\n",
    "\n",
    "summary(rnn)\n"
   ]
  },
  {
   "cell_type": "code",
   "execution_count": 43,
   "metadata": {},
   "outputs": [
    {
     "name": "stdout",
     "output_type": "stream",
     "text": [
      "[all_weights] - 2개\n",
      "======> [weight_ih_l0]\n",
      "Parameter containing:\n",
      "tensor([[-0.2379,  0.0372, -0.1417,  0.1200,  0.1059,  0.3364,  0.4208,  0.0589,\n",
      "         -0.0724, -0.4412],\n",
      "        [-0.3964,  0.1162, -0.3075, -0.4342, -0.4211,  0.0320,  0.1447, -0.0064,\n",
      "          0.2408, -0.2529],\n",
      "        [ 0.4420, -0.4356, -0.2289, -0.2794, -0.3653, -0.3214, -0.4242,  0.0306,\n",
      "         -0.4344, -0.2823],\n",
      "        [-0.1749,  0.3291,  0.3278,  0.3816, -0.3928, -0.1835, -0.3256,  0.3166,\n",
      "         -0.2216,  0.3055],\n",
      "        [ 0.3419, -0.3860,  0.0474, -0.0480,  0.1149,  0.3818,  0.1928,  0.1649,\n",
      "         -0.2864,  0.2980]], requires_grad=True)\n",
      "\n",
      "======> [weight_hh_l0]\n",
      "Parameter containing:\n",
      "tensor([[ 0.2568, -0.4190,  0.0247, -0.1662, -0.2473],\n",
      "        [ 0.1967, -0.0693, -0.4204,  0.1183,  0.0315],\n",
      "        [-0.1695, -0.1868, -0.1265, -0.0124,  0.4206],\n",
      "        [ 0.4004, -0.3610, -0.2388,  0.3386, -0.2870],\n",
      "        [-0.0164,  0.0588,  0.4433,  0.0016, -0.2544]], requires_grad=True)\n",
      "\n",
      "======> [bias_ih_l0]\n",
      "Parameter containing:\n",
      "tensor([-0.3722, -0.3382,  0.4093, -0.1131, -0.4118], requires_grad=True)\n",
      "\n",
      "======> [bias_hh_l0]\n",
      "Parameter containing:\n",
      "tensor([ 0.1421, -0.3776, -0.4210, -0.0124, -0.2057], requires_grad=True)\n",
      "\n",
      "======> [weight_ih_l1]\n",
      "Parameter containing:\n",
      "tensor([[ 0.0821, -0.3058, -0.1677, -0.3836,  0.2843],\n",
      "        [-0.1143, -0.1957, -0.1363,  0.2809, -0.0156],\n",
      "        [-0.2148,  0.3383,  0.1109,  0.2944, -0.3324],\n",
      "        [ 0.1172,  0.2394,  0.0637, -0.0735, -0.2976],\n",
      "        [-0.3528, -0.2724, -0.2089,  0.4074, -0.2636]], requires_grad=True)\n",
      "\n",
      "======> [weight_hh_l1]\n",
      "Parameter containing:\n",
      "tensor([[-0.3227, -0.2560,  0.4073, -0.1533, -0.2933],\n",
      "        [-0.4420,  0.1594,  0.1565,  0.4035, -0.3193],\n",
      "        [-0.0744,  0.4014,  0.1378,  0.4129, -0.0771],\n",
      "        [ 0.0551, -0.1122,  0.4175,  0.0122, -0.3807],\n",
      "        [ 0.4169, -0.0368, -0.3332, -0.0952, -0.1404]], requires_grad=True)\n",
      "\n",
      "======> [bias_ih_l1]\n",
      "Parameter containing:\n",
      "tensor([ 0.2025, -0.1491, -0.3358, -0.4130,  0.3557], requires_grad=True)\n",
      "\n",
      "======> [bias_hh_l1]\n",
      "Parameter containing:\n",
      "tensor([-0.1625, -0.3681,  0.3169,  0.2682, -0.0495], requires_grad=True)\n",
      "\n"
     ]
    }
   ],
   "source": [
    "## rnn 모델의 속성 출력\n",
    "print(f\"[all_weights] - {len(rnn.all_weights)}개\")\n",
    "\n",
    "for name, param in rnn.named_parameters():\n",
    "    print(f\"======> [{name}]\\n{param}\\n\")\n"
   ]
  },
  {
   "cell_type": "code",
   "execution_count": null,
   "metadata": {},
   "outputs": [],
   "source": []
  }
 ],
 "metadata": {
  "kernelspec": {
   "display_name": "Torch_NLP38",
   "language": "python",
   "name": "python3"
  },
  "language_info": {
   "codemirror_mode": {
    "name": "ipython",
    "version": 3
   },
   "file_extension": ".py",
   "mimetype": "text/x-python",
   "name": "python",
   "nbconvert_exporter": "python",
   "pygments_lexer": "ipython3",
   "version": "3.8.19"
  }
 },
 "nbformat": 4,
 "nbformat_minor": 2
}
