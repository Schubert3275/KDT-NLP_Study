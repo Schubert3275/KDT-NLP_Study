{
 "cells": [
  {
   "cell_type": "markdown",
   "metadata": {},
   "source": [
    "#### [순환신경망 RNN] <hr>\n"
   ]
  },
  {
   "cell_type": "code",
   "execution_count": 1,
   "metadata": {},
   "outputs": [],
   "source": [
    "import torch\n",
    "import torch.nn as nn\n"
   ]
  },
  {
   "cell_type": "code",
   "execution_count": 2,
   "metadata": {},
   "outputs": [],
   "source": [
    "### ------------------------------------------------------\n",
    "### ===> 설계 : 다층 RNN, 층 2개\n",
    "### ===> INPUT\n",
    "### ------------------------------------------------------\n",
    "### 입력 초기 텐서들\n",
    "input = torch.randn(\n",
    "    3, 50, 10\n",
    ")  ## 배치사이즈, 시퀀스(1개 문장 구성 단어 수), 피쳐 수(1개 단어 표현하는 수)\n",
    "h0 = torch.randn(2, 3, 5)  ## 히든 스테이트 초기화(양방향*층수, 배치사이즈, 히든 갯수)\n",
    "\n",
    "### RNN 인스턴스\n",
    "rnn = nn.RNN(10, 5, 2, batch_first=True)\n",
    "\n",
    "### 출력 텐서들\n",
    "output, hn = rnn(input, h0)\n"
   ]
  },
  {
   "cell_type": "code",
   "execution_count": 3,
   "metadata": {},
   "outputs": [
    {
     "data": {
      "text/plain": [
       "=================================================================\n",
       "Layer (type:depth-idx)                   Param #\n",
       "=================================================================\n",
       "RNN                                      145\n",
       "=================================================================\n",
       "Total params: 145\n",
       "Trainable params: 145\n",
       "Non-trainable params: 0\n",
       "================================================================="
      ]
     },
     "execution_count": 3,
     "metadata": {},
     "output_type": "execute_result"
    }
   ],
   "source": [
    "from torchinfo import summary\n",
    "\n",
    "summary(rnn)\n"
   ]
  },
  {
   "cell_type": "code",
   "execution_count": 4,
   "metadata": {},
   "outputs": [
    {
     "name": "stdout",
     "output_type": "stream",
     "text": [
      "[all_weights] - 2개\n",
      "======> [weight_ih_l0]\n",
      "torch.Size([5, 10])\n",
      "\n",
      "======> [weight_hh_l0]\n",
      "torch.Size([5, 5])\n",
      "\n",
      "======> [bias_ih_l0]\n",
      "torch.Size([5])\n",
      "\n",
      "======> [bias_hh_l0]\n",
      "torch.Size([5])\n",
      "\n",
      "======> [weight_ih_l1]\n",
      "torch.Size([5, 5])\n",
      "\n",
      "======> [weight_hh_l1]\n",
      "torch.Size([5, 5])\n",
      "\n",
      "======> [bias_ih_l1]\n",
      "torch.Size([5])\n",
      "\n",
      "======> [bias_hh_l1]\n",
      "torch.Size([5])\n",
      "\n"
     ]
    }
   ],
   "source": [
    "## rnn 모델의 속성 출력\n",
    "print(f\"[all_weights] - {len(rnn.all_weights)}개\")\n",
    "\n",
    "for name, param in rnn.named_parameters():\n",
    "    print(f\"======> [{name}]\\n{param.shape}\\n\")\n"
   ]
  },
  {
   "cell_type": "code",
   "execution_count": 22,
   "metadata": {},
   "outputs": [],
   "source": [
    "HIDDEN_SIZE = 3\n",
    "NUM_LAYERS = 1\n",
    "SEQ_LENGHT = 3\n",
    "BATCH_SIZE = 1\n",
    "BIDIRECTIONAL = True\n",
    "\n",
    "### ===> 데이터 및 초기 Hidden state\n",
    "input = torch.randn(\n",
    "    BATCH_SIZE, SEQ_LENGHT, 10\n",
    ")  # 입력 데이터 (배치 크기, 시퀀스 길이, 피쳐 길이)\n",
    "\n",
    "### ===> 첫번째 Hidden state 초기값\n",
    "h0 = torch.randn(\n",
    "    NUM_LAYERS * (int(BIDIRECTIONAL) + 1), BATCH_SIZE, HIDDEN_SIZE\n",
    ")  # 히든 초기값 (양방향*층수, 배치크기, 히든 개수)\n",
    "\n",
    "### ===> RNN 인스턴스 생성\n",
    "rnn = nn.RNN(10, HIDDEN_SIZE, NUM_LAYERS, batch_first=True, bidirectional=BIDIRECTIONAL)\n",
    "\n",
    "### ===> RNN 출력\n",
    "output, hn = rnn(input, h0)\n"
   ]
  },
  {
   "cell_type": "code",
   "execution_count": 23,
   "metadata": {},
   "outputs": [
    {
     "name": "stdout",
     "output_type": "stream",
     "text": [
      "[INPUT DATA]\n",
      "-SHAPE : torch.Size([1, 3, 10])   DIM : 3D\n"
     ]
    }
   ],
   "source": [
    "print(f\"[INPUT DATA]\\n-SHAPE : {input.shape}   DIM : {input.ndim}D\")\n"
   ]
  },
  {
   "cell_type": "code",
   "execution_count": 24,
   "metadata": {},
   "outputs": [
    {
     "name": "stdout",
     "output_type": "stream",
     "text": [
      "[RNN PARAMETERS]\n",
      "----[weight_ih_l0]\n",
      "Parameter containing:\n",
      "tensor([[-0.1057, -0.2712, -0.1800, -0.4242, -0.2694,  0.2117, -0.0861,  0.3077,\n",
      "         -0.2202,  0.3305],\n",
      "        [ 0.2425,  0.4077,  0.2866,  0.2951,  0.0886, -0.1573,  0.4958, -0.0449,\n",
      "          0.2740, -0.1110],\n",
      "        [ 0.5045,  0.3408, -0.2811, -0.1442,  0.2346,  0.2547, -0.4024,  0.4469,\n",
      "         -0.1057, -0.3720]], requires_grad=True)\n",
      "\n",
      "----[weight_hh_l0]\n",
      "Parameter containing:\n",
      "tensor([[ 0.3550, -0.5027,  0.2564],\n",
      "        [ 0.1375, -0.3519, -0.0140],\n",
      "        [-0.4169,  0.1876,  0.2473]], requires_grad=True)\n",
      "\n",
      "----[bias_ih_l0]\n",
      "Parameter containing:\n",
      "tensor([ 0.3946,  0.1945, -0.2364], requires_grad=True)\n",
      "\n",
      "----[bias_hh_l0]\n",
      "Parameter containing:\n",
      "tensor([-0.0918, -0.0548, -0.1488], requires_grad=True)\n",
      "\n",
      "----[weight_ih_l0_reverse]\n",
      "Parameter containing:\n",
      "tensor([[-0.1206, -0.1830,  0.1229,  0.2046, -0.5525,  0.0225,  0.3197, -0.1280,\n",
      "          0.4794,  0.0610],\n",
      "        [ 0.5122,  0.4880, -0.1163,  0.2474, -0.5221, -0.1936,  0.3667,  0.3167,\n",
      "          0.3178,  0.3821],\n",
      "        [-0.1430,  0.4037, -0.0363, -0.5417, -0.0248, -0.0855, -0.3515, -0.1551,\n",
      "          0.3593, -0.4738]], requires_grad=True)\n",
      "\n",
      "----[weight_hh_l0_reverse]\n",
      "Parameter containing:\n",
      "tensor([[ 0.3032, -0.5627, -0.5276],\n",
      "        [ 0.0660,  0.5565, -0.2043],\n",
      "        [ 0.5580, -0.3932, -0.0772]], requires_grad=True)\n",
      "\n",
      "----[bias_ih_l0_reverse]\n",
      "Parameter containing:\n",
      "tensor([-0.2365,  0.5161,  0.2148], requires_grad=True)\n",
      "\n",
      "----[bias_hh_l0_reverse]\n",
      "Parameter containing:\n",
      "tensor([ 0.4073, -0.4810, -0.2244], requires_grad=True)\n",
      "\n"
     ]
    }
   ],
   "source": [
    "print(f\"[RNN PARAMETERS]\")\n",
    "for name, param in rnn.named_parameters():\n",
    "    print(f\"----[{name}]\\n{param}\\n\")\n"
   ]
  },
  {
   "cell_type": "code",
   "execution_count": 25,
   "metadata": {},
   "outputs": [
    {
     "name": "stdout",
     "output_type": "stream",
     "text": [
      "[RNN 출력 - output]\n",
      "-SHAPE : torch.Size([1, 3, 6])   DIM : 3D\n",
      "tensor([[[-0.4828,  0.2618,  0.7598, -0.3546,  0.8051, -0.5287],\n",
      "         [ 0.5410, -0.6237, -0.3441, -0.7498,  0.2674, -0.9503],\n",
      "         [-0.3065,  0.9644,  0.4899, -0.5384,  0.9878, -0.3322]]],\n",
      "       grad_fn=<TransposeBackward1>)\n"
     ]
    }
   ],
   "source": [
    "print(f\"[RNN 출력 - output]\\n-SHAPE : {output.shape}   DIM : {output.ndim}D\")\n",
    "print(output)\n"
   ]
  },
  {
   "cell_type": "code",
   "execution_count": 26,
   "metadata": {},
   "outputs": [
    {
     "name": "stdout",
     "output_type": "stream",
     "text": [
      "[RNN 출력 - hn]\n",
      "-SHAPE : torch.Size([2, 1, 3])   DIM : 3D\n",
      "tensor([[[-0.3065,  0.9644,  0.4899]],\n",
      "\n",
      "        [[-0.3546,  0.8051, -0.5287]]], grad_fn=<StackBackward0>)\n"
     ]
    }
   ],
   "source": [
    "print(f\"[RNN 출력 - hn]\\n-SHAPE : {hn.shape}   DIM : {hn.ndim}D\")\n",
    "print(hn)\n"
   ]
  },
  {
   "cell_type": "code",
   "execution_count": null,
   "metadata": {},
   "outputs": [],
   "source": []
  }
 ],
 "metadata": {
  "kernelspec": {
   "display_name": "Torch_NLP38",
   "language": "python",
   "name": "python3"
  },
  "language_info": {
   "codemirror_mode": {
    "name": "ipython",
    "version": 3
   },
   "file_extension": ".py",
   "mimetype": "text/x-python",
   "name": "python",
   "nbconvert_exporter": "python",
   "pygments_lexer": "ipython3",
   "version": "3.8.19"
  }
 },
 "nbformat": 4,
 "nbformat_minor": 2
}
