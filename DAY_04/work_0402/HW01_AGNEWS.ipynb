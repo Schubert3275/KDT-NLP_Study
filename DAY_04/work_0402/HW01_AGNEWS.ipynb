{
 "cells": [
  {
   "cell_type": "code",
   "execution_count": 1,
   "metadata": {},
   "outputs": [],
   "source": [
    "import torch\n",
    "from torchtext.datasets import AG_NEWS\n",
    "from torchtext.data.utils import get_tokenizer\n",
    "from torchtext.vocab import build_vocab_from_iterator\n",
    "\n",
    "tokernizer = get_tokenizer(\"basic_english\")\n",
    "\n",
    "train_iter = AG_NEWS(split=\"train\")\n"
   ]
  },
  {
   "cell_type": "code",
   "execution_count": 2,
   "metadata": {},
   "outputs": [],
   "source": [
    "def yield_tokens(data_iter):\n",
    "    for _, text in data_iter:\n",
    "        yield tokernizer(text)\n"
   ]
  },
  {
   "cell_type": "code",
   "execution_count": 3,
   "metadata": {},
   "outputs": [],
   "source": [
    "vocab = build_vocab_from_iterator(yield_tokens(train_iter), specials=[\"<pad>\", \"<unk>\"])\n",
    "\n",
    "vocab.set_default_index(vocab[\"<pad>\"])\n"
   ]
  },
  {
   "cell_type": "code",
   "execution_count": 4,
   "metadata": {},
   "outputs": [
    {
     "data": {
      "text/plain": [
       "[0, 1, 476, 22, 31, 5298]"
      ]
     },
     "execution_count": 4,
     "metadata": {},
     "output_type": "execute_result"
    }
   ],
   "source": [
    "vocab([\"<pad>\", \"<unk>\", \"here\", \"is\", \"an\", \"example\"])\n"
   ]
  },
  {
   "cell_type": "code",
   "execution_count": 5,
   "metadata": {},
   "outputs": [],
   "source": [
    "text_pipeline = lambda x: vocab(tokernizer(x))\n",
    "\n",
    "label_pipeline = lambda x: int(x) - 1\n"
   ]
  },
  {
   "cell_type": "code",
   "execution_count": 6,
   "metadata": {},
   "outputs": [],
   "source": [
    "train_iter = AG_NEWS(split=\"train\")\n",
    "length_dict = {}\n",
    "for label_, text_ in train_iter:\n",
    "    length = len(text_pipeline(text_))\n",
    "    if length in length_dict.keys():\n",
    "        length_dict[length] += 1\n",
    "    else:\n",
    "        length_dict[length] = 1\n"
   ]
  },
  {
   "cell_type": "code",
   "execution_count": 7,
   "metadata": {},
   "outputs": [],
   "source": [
    "PAD_ID = text_pipeline(\"<pad>\")[0]\n",
    "MAX_LENGTH = sorted(length_dict.items(), key=lambda x: x[1], reverse=True)[0][0]\n",
    "BATCH_SIZE = 128\n"
   ]
  },
  {
   "cell_type": "code",
   "execution_count": 8,
   "metadata": {},
   "outputs": [],
   "source": [
    "def pad_sequence(sentences, max_length, pad, start=\"R\"):\n",
    "    sentences = sentences[:max_length] if start == \"R\" else sentences[-max_length:]\n",
    "    result = (\n",
    "        (sentences + [pad] * (max_length - len(sentences)))\n",
    "        if start == \"R\"\n",
    "        else ([pad] * (max_length - len(sentences)) + sentences)\n",
    "    )\n",
    "    return result\n"
   ]
  },
  {
   "cell_type": "code",
   "execution_count": 9,
   "metadata": {},
   "outputs": [],
   "source": [
    "from torch.utils.data import DataLoader\n",
    "\n",
    "device = torch.device(\"cuda\" if torch.cuda.is_available() else \"cpu\")\n",
    "\n",
    "\n",
    "def collate_batch(batch):\n",
    "    label_list, text_list, offsets = [], [], [0]\n",
    "\n",
    "    for _label, _text in batch:\n",
    "        label_list.append(label_pipeline(_label))\n",
    "\n",
    "        processed_text = pad_sequence(text_pipeline(_text), MAX_LENGTH, PAD_ID)\n",
    "        # processed_text = torch.tensor(padding_text, dtype=torch.int64)\n",
    "        text_list.append(processed_text)\n",
    "\n",
    "    label_list = torch.tensor(label_list, dtype=torch.int64)\n",
    "    text_list = torch.tensor(text_list, dtype=torch.int64)\n",
    "\n",
    "    return text_list.to(device), label_list.to(device)\n"
   ]
  },
  {
   "cell_type": "code",
   "execution_count": 10,
   "metadata": {},
   "outputs": [],
   "source": [
    "train_iter = AG_NEWS(split=\"train\")\n",
    "test_iter = AG_NEWS(split=\"test\")\n",
    "trainDL = DataLoader(\n",
    "    train_iter, batch_size=BATCH_SIZE, shuffle=True, collate_fn=collate_batch\n",
    ")\n",
    "testDL = DataLoader(\n",
    "    test_iter, batch_size=BATCH_SIZE, shuffle=True, collate_fn=collate_batch\n",
    ")\n"
   ]
  },
  {
   "cell_type": "code",
   "execution_count": 11,
   "metadata": {},
   "outputs": [
    {
     "name": "stdout",
     "output_type": "stream",
     "text": [
      "num_class : 4    vocab_size : 95812\n"
     ]
    }
   ],
   "source": [
    "### ===> 분류 클래스 수와 단어사전 개수\n",
    "num_class = len(set([label for (label, text) in train_iter]))\n",
    "vocab_size = len(vocab)\n",
    "\n",
    "print(f\"num_class : {num_class}    vocab_size : {vocab_size}\")\n"
   ]
  },
  {
   "cell_type": "code",
   "execution_count": 12,
   "metadata": {},
   "outputs": [],
   "source": [
    "from torch import nn\n",
    "\n",
    "\n",
    "class SentenceClassifier(nn.Module):\n",
    "    def __init__(\n",
    "        self,\n",
    "        n_vocab,\n",
    "        hidden_dim,\n",
    "        embedding_dim,\n",
    "        n_layer,\n",
    "        dropout=0.5,\n",
    "        bidirectional=True,\n",
    "        model_type=\"lstm\",\n",
    "    ) -> None:\n",
    "        super().__init__()\n",
    "        self.embedding = nn.Embedding(\n",
    "            num_embeddings=n_vocab, embedding_dim=embedding_dim, padding_idx=0\n",
    "        )\n",
    "        if model_type == \"rnn\":\n",
    "            self.model = nn.RNN(\n",
    "                input_size=embedding_dim,\n",
    "                hidden_size=hidden_dim,\n",
    "                num_layers=n_layer,\n",
    "                bidirectional=bidirectional,\n",
    "                dropout=dropout,\n",
    "                batch_first=True,\n",
    "            )\n",
    "        elif model_type == \"lstm\":\n",
    "            self.model = nn.LSTM(\n",
    "                input_size=embedding_dim,\n",
    "                hidden_size=hidden_dim,\n",
    "                num_layers=n_layer,\n",
    "                bidirectional=bidirectional,\n",
    "                dropout=dropout,\n",
    "                batch_first=True,\n",
    "            )\n",
    "\n",
    "        if bidirectional:\n",
    "            self.classifier = nn.Linear(hidden_dim * 2, num_class)\n",
    "        else:\n",
    "            self.classifier = nn.Linear(hidden_dim, num_class)\n",
    "\n",
    "        self.dropout = nn.Dropout(dropout)\n",
    "\n",
    "    def forward(self, inputs):\n",
    "        embeddings = self.embedding(inputs)\n",
    "        output, _ = self.model(embeddings)\n",
    "        last_output = output[:, -1, :]\n",
    "        last_output = self.dropout(last_output)\n",
    "        logits = self.classifier(last_output)\n",
    "        return logits\n"
   ]
  },
  {
   "cell_type": "code",
   "execution_count": 13,
   "metadata": {},
   "outputs": [],
   "source": [
    "from torch import optim\n",
    "\n",
    "n_vocab = len(vocab)\n",
    "hidden_dim = 64\n",
    "embedding_dim = 128\n",
    "n_layer = 2\n",
    "\n",
    "device = \"cuda\" if torch.cuda.is_available() else \"cpu\"\n",
    "classifier = SentenceClassifier(\n",
    "    n_vocab=n_vocab, hidden_dim=hidden_dim, embedding_dim=embedding_dim, n_layer=n_layer\n",
    ").to(device)\n",
    "criterion = nn.CrossEntropyLoss().to(device)\n",
    "optimizer = optim.Adam(classifier.parameters())\n"
   ]
  },
  {
   "cell_type": "code",
   "execution_count": 14,
   "metadata": {},
   "outputs": [
    {
     "data": {
      "text/plain": [
       "=================================================================\n",
       "Layer (type:depth-idx)                   Param #\n",
       "=================================================================\n",
       "SentenceClassifier                       --\n",
       "├─Embedding: 1-1                         12,263,936\n",
       "├─LSTM: 1-2                              198,656\n",
       "├─Linear: 1-3                            516\n",
       "├─Dropout: 1-4                           --\n",
       "=================================================================\n",
       "Total params: 12,463,108\n",
       "Trainable params: 12,463,108\n",
       "Non-trainable params: 0\n",
       "================================================================="
      ]
     },
     "execution_count": 14,
     "metadata": {},
     "output_type": "execute_result"
    }
   ],
   "source": [
    "from torchinfo import summary\n",
    "\n",
    "summary(classifier)\n"
   ]
  },
  {
   "cell_type": "code",
   "execution_count": 15,
   "metadata": {},
   "outputs": [
    {
     "name": "stdout",
     "output_type": "stream",
     "text": [
      "Train Loss 0 : 1.3870983123779297\n",
      "Train Loss 100 : 1.303557273184899\n",
      "Train Loss 200 : 1.119230790814357\n",
      "Train Loss 300 : 0.991891983834612\n",
      "Train Loss 400 : 0.906186282114495\n",
      "Train Loss 500 : 0.8372362538012202\n",
      "Train Loss 600 : 0.7764976990599799\n",
      "Train Loss 700 : 0.7308536968200591\n",
      "Train Loss 800 : 0.6938664631897145\n",
      "Train Loss 900 : 0.6624040723706985\n",
      "Val Loss : 0.38863015845417975, Val Accuracy : 0.866578947368421\n",
      "Train Loss 0 : 0.4532986581325531\n",
      "Train Loss 100 : 0.4357316732996761\n",
      "Train Loss 200 : 0.40859868351499834\n",
      "Train Loss 300 : 0.3922239392005724\n",
      "Train Loss 400 : 0.3781857704952768\n",
      "Train Loss 500 : 0.367749891833155\n",
      "Train Loss 600 : 0.35231509127850935\n",
      "Train Loss 700 : 0.3424625628642451\n",
      "Train Loss 800 : 0.33458788679928964\n",
      "Train Loss 900 : 0.32721772432724194\n",
      "Val Loss : 0.32519606028993925, Val Accuracy : 0.8944736842105263\n",
      "Train Loss 0 : 0.263317346572876\n",
      "Train Loss 100 : 0.32787886896345875\n",
      "Train Loss 200 : 0.30464180036267235\n",
      "Train Loss 300 : 0.29152135595530765\n",
      "Train Loss 400 : 0.2836374031226534\n",
      "Train Loss 500 : 0.27787463897894954\n",
      "Train Loss 600 : 0.26783679241001507\n",
      "Train Loss 700 : 0.2592728301117492\n",
      "Train Loss 800 : 0.25361735762542253\n",
      "Train Loss 900 : 0.2490074499515397\n",
      "Val Loss : 0.3353974478940169, Val Accuracy : 0.8984210526315789\n",
      "Train Loss 0 : 0.37602928280830383\n",
      "Train Loss 100 : 0.2635252519261719\n",
      "Train Loss 200 : 0.24565721280984024\n",
      "Train Loss 300 : 0.22992756143459847\n",
      "Train Loss 400 : 0.2231511690670118\n",
      "Train Loss 500 : 0.2201522273901932\n",
      "Train Loss 600 : 0.21100194454069146\n",
      "Train Loss 700 : 0.20492453609570627\n",
      "Train Loss 800 : 0.19981677740458842\n",
      "Train Loss 900 : 0.1950933578797305\n",
      "Val Loss : 0.32903924261530243, Val Accuracy : 0.8980263157894737\n",
      "Train Loss 0 : 0.31595155596733093\n",
      "Train Loss 100 : 0.2010945453502164\n",
      "Train Loss 200 : 0.1860500899009147\n",
      "Train Loss 300 : 0.1791287004898157\n",
      "Train Loss 400 : 0.1744977754826409\n",
      "Train Loss 500 : 0.1727036779854231\n",
      "Train Loss 600 : 0.1682876798319638\n",
      "Train Loss 700 : 0.16288656886459757\n",
      "Train Loss 800 : 0.15902936637643422\n",
      "Train Loss 900 : 0.1561373908374537\n",
      "Val Loss : 0.3547238250573476, Val Accuracy : 0.9057894736842105\n"
     ]
    }
   ],
   "source": [
    "import numpy as np\n",
    "from torchmetrics.functional import accuracy\n",
    "\n",
    "\n",
    "def train(model, datasets, criterion, optimizer, device, interval):\n",
    "    model.train()\n",
    "    losses = list()\n",
    "\n",
    "    for step, (input_ids, labels) in enumerate(datasets):\n",
    "        input_ids = input_ids.to(device)\n",
    "        labels = labels.to(device)\n",
    "\n",
    "        logits = model(input_ids)\n",
    "        loss = criterion(logits, labels)\n",
    "        losses.append(loss.item())\n",
    "\n",
    "        optimizer.zero_grad()\n",
    "        loss.backward()\n",
    "        optimizer.step()\n",
    "\n",
    "        if step % interval == 0:\n",
    "            print(f\"Train Loss {step} : {np.mean(losses)}\")\n",
    "\n",
    "\n",
    "def test(model, datasets, criterion, device):\n",
    "    model.eval()\n",
    "    losses = list()\n",
    "    corrects = list()\n",
    "\n",
    "    with torch.no_grad():\n",
    "        for step, (input_ids, labels) in enumerate(datasets):\n",
    "            input_ids = input_ids.to(device)\n",
    "            labels = labels.to(device)\n",
    "\n",
    "            logits = model(input_ids)\n",
    "            loss = criterion(logits, labels)\n",
    "            losses.append(loss.item())\n",
    "            corrects.extend(torch.eq(logits.argmax(dim=1), labels).cpu().tolist())\n",
    "\n",
    "    print(f\"Val Loss : {np.mean(losses)}, Val Accuracy : {np.mean(corrects)}\")\n",
    "\n",
    "\n",
    "epochs = 5\n",
    "interval = 100\n",
    "\n",
    "for epoch in range(epochs):\n",
    "    train(classifier, trainDL, criterion, optimizer, device, interval)\n",
    "    test(classifier, testDL, criterion, device)\n"
   ]
  },
  {
   "cell_type": "code",
   "execution_count": null,
   "metadata": {},
   "outputs": [],
   "source": []
  }
 ],
 "metadata": {
  "kernelspec": {
   "display_name": "Torch_NLP38",
   "language": "python",
   "name": "python3"
  },
  "language_info": {
   "codemirror_mode": {
    "name": "ipython",
    "version": 3
   },
   "file_extension": ".py",
   "mimetype": "text/x-python",
   "name": "python",
   "nbconvert_exporter": "python",
   "pygments_lexer": "ipython3",
   "version": "3.8.19"
  }
 },
 "nbformat": 4,
 "nbformat_minor": 2
}
